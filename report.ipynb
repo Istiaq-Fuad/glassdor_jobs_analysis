{
 "cells": [
  {
   "cell_type": "code",
   "execution_count": 97,
   "metadata": {
    "ExecuteTime": {
     "end_time": "2023-06-15T12:58:26.056954200Z",
     "start_time": "2023-06-15T12:58:23.563667800Z"
    }
   },
   "outputs": [],
   "source": [
    "import re\n",
    "import pandas as pd\n",
    "import numpy as np\n",
    "import matplotlib.pyplot as plt\n",
    "import seaborn as sns\n",
    "# from thefuzz import fuzz\n",
    "%matplotlib inline"
   ]
  },
  {
   "cell_type": "code",
   "execution_count": 69,
   "metadata": {
    "ExecuteTime": {
     "end_time": "2023-06-15T12:58:26.184436200Z",
     "start_time": "2023-06-15T12:58:26.064950400Z"
    }
   },
   "outputs": [
    {
     "data": {
      "text/plain": [
       "Index(['Job Title', 'Salary Estimate', 'Job Description', 'Rating',\n",
       "       'Company Name', 'Location', 'Headquarters', 'Size', 'Founded',\n",
       "       'Type of ownership', 'Industry', 'Sector', 'Revenue', 'Competitors'],\n",
       "      dtype='object')"
      ]
     },
     "execution_count": 69,
     "metadata": {},
     "output_type": "execute_result"
    }
   ],
   "source": [
    "df = pd.read_csv(\"glassdoor_jobs.csv\")\n",
    "df = df.iloc[:, 1:]\n",
    "df.columns"
   ]
  },
  {
   "attachments": {},
   "cell_type": "markdown",
   "metadata": {
    "collapsed": false
   },
   "source": [
    "## data cleaning and parsing"
   ]
  },
  {
   "cell_type": "code",
   "execution_count": 70,
   "metadata": {
    "ExecuteTime": {
     "end_time": "2023-06-15T12:58:26.273481200Z",
     "start_time": "2023-06-15T12:58:26.191466600Z"
    },
    "collapsed": false
   },
   "outputs": [],
   "source": [
    "# salary parsing\n",
    "df = df[df['Salary Estimate'] != \"-1\"]\n",
    "salary = df[\"Salary Estimate\"].apply(lambda x: x.split('(')[0])\n",
    "salary = salary.apply(lambda x: x.replace('K', '').replace('$', ''))\n",
    "df['hourly_salary'] = df['Salary Estimate'].apply(lambda x: 1 if 'per hour' in x.lower() else 0)\n",
    "salary= salary.apply(lambda x: x.lower().replace('per hour', '').replace('employer provided salary:', ''))\n",
    "df['min_salary'] = salary.apply(lambda x: int(x.split('-')[0]))\n",
    "df['max_salary'] = salary.apply(lambda x: int(x.split('-')[1]))\n",
    "df['average_salary'] = (df.min_salary + df.max_salary) / 2"
   ]
  },
  {
   "cell_type": "code",
   "execution_count": 71,
   "metadata": {
    "ExecuteTime": {
     "end_time": "2023-06-15T12:58:26.304866700Z",
     "start_time": "2023-06-15T12:58:26.234485400Z"
    },
    "collapsed": false
   },
   "outputs": [],
   "source": [
    "# company name (text only)\n",
    "company_names = df['Company Name'].apply(lambda x: re.sub(r'\\d+\\.\\d+$', '', x))\n",
    "df['company_name'] = company_names.apply(lambda x: x.strip())"
   ]
  },
  {
   "cell_type": "code",
   "execution_count": 72,
   "metadata": {
    "ExecuteTime": {
     "end_time": "2023-06-15T13:06:42.039503200Z",
     "start_time": "2023-06-15T13:06:42.026093400Z"
    },
    "collapsed": false
   },
   "outputs": [],
   "source": [
    "# state field\n",
    "df['job_state'] = df['Location'].str.split(',').str[1].str.strip()\n",
    "df['job_state'] = df.job_state.apply(lambda x: 'CA' if x.lower() == 'los angeles' else x)\n",
    "df['same_state'] = 0\n",
    "df.loc[df['Location'] == df['Headquarters'], 'same_state'] = 1\n",
    "# df.job_state.value_counts()"
   ]
  },
  {
   "cell_type": "code",
   "execution_count": 73,
   "metadata": {
    "ExecuteTime": {
     "end_time": "2023-06-15T12:58:26.341441400Z",
     "start_time": "2023-06-15T12:58:26.288484Z"
    },
    "collapsed": false
   },
   "outputs": [],
   "source": [
    "# age of company\n",
    "df['company_age'] = 2023 - df['Founded']\n",
    "df.loc[df['Founded'] == -1, 'company_age'] = np.nan"
   ]
  },
  {
   "cell_type": "code",
   "execution_count": 74,
   "metadata": {
    "ExecuteTime": {
     "end_time": "2023-06-15T12:58:26.611363900Z",
     "start_time": "2023-06-15T12:58:26.315444400Z"
    },
    "collapsed": false
   },
   "outputs": [],
   "source": [
    "# parsing job description\n",
    "df['r_yn'] = df['Job Description'].apply(lambda x: 1 if re.search(\"[\\b\\s\\.,]r[\\b\\s\\.,]|rstudio|r.studio\", x.lower()) else 0)\n",
    "df['powerBI_yn'] = df['Job Description'].apply(lambda x: 1 if re.search(\"powerbi|power.bi\", x.lower()) else 0)\n",
    "skill_list = ['python', 'aws', 'spark', 'tableau', 'matlab', 'excel', 'sql']\n",
    "for skill in skill_list:\n",
    "    df[f'{skill}_yn'] = df['Job Description'].apply(lambda x: 1 if skill in x.lower() else 0)\n"
   ]
  },
  {
   "cell_type": "code",
   "execution_count": 75,
   "metadata": {
    "ExecuteTime": {
     "end_time": "2023-06-15T12:58:26.701059100Z",
     "start_time": "2023-06-15T12:58:26.617373800Z"
    },
    "collapsed": false
   },
   "outputs": [
    {
     "data": {
      "text/plain": [
       "56"
      ]
     },
     "execution_count": 75,
     "metadata": {},
     "output_type": "execute_result"
    }
   ],
   "source": [
    "df.powerBI_yn.sum()"
   ]
  },
  {
   "attachments": {},
   "cell_type": "markdown",
   "metadata": {
    "collapsed": false
   },
   "source": [
    "## Exploratory data analysis"
   ]
  },
  {
   "cell_type": "code",
   "execution_count": 76,
   "metadata": {
    "ExecuteTime": {
     "end_time": "2023-06-15T13:21:37.630474300Z",
     "start_time": "2023-06-15T13:21:37.586150700Z"
    },
    "collapsed": false
   },
   "outputs": [],
   "source": [
    "# job title and seniority\n",
    "def title_simplifier(title):\n",
    "    i = title.lower()\n",
    "    if \"data scientist\" in i or \"data science\" in i:\n",
    "        return \"data scientist\"\n",
    "    elif \"analyst\" in i:\n",
    "        return \"data analyst\"\n",
    "    elif \"architect\" in i:\n",
    "        return \"data architect\"\n",
    "    elif \"director\" in i:\n",
    "        return \"director\"\n",
    "    elif \"machine learning\" in i:\n",
    "        return \"machine learning engineer\"\n",
    "    elif \"manager\" in i or \"management\" in i:\n",
    "        return \"manager\"\n",
    "    elif \"data engineer\" in i:\n",
    "        return \"data engineer\"\n",
    "    else:\n",
    "        return \"not specified\"\n",
    "    \n",
    "def rank(title):\n",
    "    i = title.lower()\n",
    "    if \"sr\" in i or \"lead\" in i or \"principal\" in i or \"senior\" in i:\n",
    "        return \"senior\"\n",
    "    elif \"jr\" in i or \"junior\" in i:\n",
    "        return \"junior\"\n",
    "    else:\n",
    "        return \"not specified\"\n"
   ]
  },
  {
   "cell_type": "code",
   "execution_count": 77,
   "metadata": {},
   "outputs": [
    {
     "data": {
      "text/plain": [
       "data scientist               313\n",
       "not specified                161\n",
       "data engineer                115\n",
       "data analyst                 102\n",
       "machine learning engineer     22\n",
       "manager                       18\n",
       "director                       8\n",
       "data architect                 3\n",
       "Name: job_title, dtype: int64"
      ]
     },
     "execution_count": 77,
     "metadata": {},
     "output_type": "execute_result"
    }
   ],
   "source": [
    "df['job_title'] = df['Job Title'].apply(title_simplifier)\n",
    "df.job_title.value_counts()"
   ]
  },
  {
   "cell_type": "code",
   "execution_count": 78,
   "metadata": {},
   "outputs": [
    {
     "data": {
      "text/plain": [
       "not specified    519\n",
       "senior           220\n",
       "junior             3\n",
       "Name: job_rank, dtype: int64"
      ]
     },
     "execution_count": 78,
     "metadata": {},
     "output_type": "execute_result"
    }
   ],
   "source": [
    "df['job_rank'] = df['Job Title'].apply(rank)\n",
    "df.job_rank.value_counts()"
   ]
  },
  {
   "cell_type": "code",
   "execution_count": 79,
   "metadata": {},
   "outputs": [
    {
     "data": {
      "text/plain": [
       "0      2555\n",
       "1      4828\n",
       "2      3495\n",
       "3      3926\n",
       "4      2748\n",
       "       ... \n",
       "950    6219\n",
       "951    6167\n",
       "952    3107\n",
       "953    1678\n",
       "955    3710\n",
       "Name: desc_len, Length: 742, dtype: int64"
      ]
     },
     "execution_count": 79,
     "metadata": {},
     "output_type": "execute_result"
    }
   ],
   "source": [
    "# job description length\n",
    "df['desc_len'] = df['Job Description'].apply(lambda x: len(x))\n",
    "df.desc_len"
   ]
  },
  {
   "cell_type": "code",
   "execution_count": 80,
   "metadata": {},
   "outputs": [
    {
     "data": {
      "text/plain": [
       "0      0\n",
       "1      0\n",
       "2      0\n",
       "3      3\n",
       "4      3\n",
       "      ..\n",
       "950    3\n",
       "951    3\n",
       "952    0\n",
       "953    0\n",
       "955    0\n",
       "Name: competitors_count, Length: 742, dtype: int64"
      ]
     },
     "execution_count": 80,
     "metadata": {},
     "output_type": "execute_result"
    }
   ],
   "source": [
    "# competitor count\n",
    "df['competitors_count'] = 0\n",
    "df['competitors_count'] = df['Competitors'].apply(lambda x: 0 if x == '-1' else len(x.split(',')))\n",
    "df.competitors_count"
   ]
  },
  {
   "cell_type": "code",
   "execution_count": 99,
   "metadata": {},
   "outputs": [
    {
     "data": {
      "text/plain": [
       "24"
      ]
     },
     "execution_count": 99,
     "metadata": {},
     "output_type": "execute_result"
    }
   ],
   "source": [
    "# df['hourly_salary'].sum()"
   ]
  },
  {
   "cell_type": "code",
   "execution_count": 98,
   "metadata": {},
   "outputs": [
    {
     "data": {
      "text/plain": [
       "<Axes: xlabel='Rating', ylabel='Count'>"
      ]
     },
     "execution_count": 98,
     "metadata": {},
     "output_type": "execute_result"
    },
    {
     "data": {
      "image/png": "[encoded data removed]",
      "text/plain": [
       "<Figure size 640x480 with 1 Axes>"
      ]
     },
     "metadata": {},
     "output_type": "display_data"
    }
   ],
   "source": [
    "sns.histplot(data = df, x = 'Rating')"
   ]
  },
  {
   "cell_type": "code",
   "execution_count": 85,
   "metadata": {},
   "outputs": [
    {
     "data": {
      "text/plain": [
       "<Axes: xlabel='average_salary', ylabel='Count'>"
      ]
     },
     "execution_count": 85,
     "metadata": {},
     "output_type": "execute_result"
    },
    {
     "data": {
      "image/png": "[encoded data removed]",
      "text/plain": [
       "<Figure size 640x480 with 1 Axes>"
      ]
     },
     "metadata": {},
     "output_type": "display_data"
    }
   ],
   "source": [
    "sns.histplot(data = df[df.hourly_salary == 0], x = 'average_salary')"
   ]
  },
  {
   "cell_type": "code",
   "execution_count": 96,
   "metadata": {},
   "outputs": [
    {
     "data": {
      "image/png": "[encoded data removed]",
      "text/plain": [
       "<Figure size 640x480 with 1 Axes>"
      ]
     },
     "metadata": {},
     "output_type": "display_data"
    }
   ],
   "source": [
    "sns.countplot(data = df, y = 'Size')\n",
    "plt.show()"
   ]
  },
  {
   "cell_type": "code",
   "execution_count": 102,
   "metadata": {},
   "outputs": [
    {
     "data": {
      "text/plain": [
       "<Axes: xlabel='average_salary', ylabel='Count'>"
      ]
     },
     "execution_count": 102,
     "metadata": {},
     "output_type": "execute_result"
    },
    {
     "data": {
      "image/png": "[encoded data removed]",
      "text/plain": [
       "<Figure size 640x480 with 1 Axes>"
      ]
     },
     "metadata": {},
     "output_type": "display_data"
    }
   ],
   "source": [
    "sns.histplot(data = df[df['hourly_salary'] == 0], x = 'average_salary', hue = 'job_rank',\\\n",
    "  multiple = 'stack')"
   ]
  },
  {
   "cell_type": "code",
   "execution_count": 86,
   "metadata": {},
   "outputs": [
    {
     "data": {
      "text/plain": [
       "Index(['Job Title', 'Salary Estimate', 'Job Description', 'Rating',\n",
       "       'Company Name', 'Location', 'Headquarters', 'Size', 'Founded',\n",
       "       'Type of ownership', 'Industry', 'Sector', 'Revenue', 'Competitors',\n",
       "       'hourly_salary', 'min_salary', 'max_salary', 'average_salary',\n",
       "       'company_name', 'job_state', 'same_state', 'company_age', 'r_yn',\n",
       "       'powerBI_yn', 'python_yn', 'aws_yn', 'spark_yn', 'tableau_yn',\n",
       "       'matlab_yn', 'excel_yn', 'sql_yn', 'job_title', 'job_rank', 'desc_len',\n",
       "       'competitors_count', 'employee_count'],\n",
       "      dtype='object')"
      ]
     },
     "execution_count": 86,
     "metadata": {},
     "output_type": "execute_result"
    }
   ],
   "source": [
    "df.columns"
   ]
  },
  {
   "cell_type": "code",
   "execution_count": 87,
   "metadata": {},
   "outputs": [],
   "source": [
    "# fuzzy match didn't work as expected\n",
    "# job_titles = df['Job Title'].unique()\n",
    "# # num_titles = len(df['Job Title'].unique())\n",
    "# job_titles = sorted(job_titles, key = lambda x: len(x))\n",
    "\n",
    "# matches = []\n",
    "\n",
    "# for i, title in enumerate(job_titles):\n",
    "#   if title == '' : continue\n",
    "#   # match = [title]\n",
    "#   matches.append(title)\n",
    "#   for j, role in enumerate(job_titles):\n",
    "#     if title == role or role == '': \n",
    "#       continue\n",
    "#     elif fuzz.token_set_ratio(title, role) > 90:\n",
    "#       # match.append(role)\n",
    "#       job_titles[j] = ''\n",
    "  \n",
    "#   job_titles[i] = ''\n",
    "#   # matches.append(match)\n",
    "\n",
    "# matches"
   ]
  },
  {
   "cell_type": "markdown",
   "metadata": {},
   "source": [
    "## Model building"
   ]
  },
  {
   "cell_type": "code",
   "execution_count": null,
   "metadata": {},
   "outputs": [],
   "source": []
  }
 ],
 "metadata": {
  "kernelspec": {
   "display_name": "data_anal",
   "language": "python",
   "name": "python3"
  },
  "language_info": {
   "codemirror_mode": {
    "name": "ipython",
    "version": 3
   },
   "file_extension": ".py",
   "mimetype": "text/x-python",
   "name": "python",
   "nbconvert_exporter": "python",
   "pygments_lexer": "ipython3",
   "version": "3.10.9"
  },
  "orig_nbformat": 4
 },
 "nbformat": 4,
 "nbformat_minor": 2
}
