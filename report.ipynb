{
 "cells": [
  {
   "cell_type": "code",
   "execution_count": 2,
   "metadata": {
    "ExecuteTime": {
     "end_time": "2023-06-15T08:40:04.194357200Z",
     "start_time": "2023-06-15T08:40:01.085970600Z"
    }
   },
   "outputs": [],
   "source": [
    "import re\n",
    "import pandas as pd\n",
    "import numpy as np\n",
    "import matplotlib.pyplot as plt"
   ]
  },
  {
   "cell_type": "code",
   "execution_count": 3,
   "metadata": {
    "ExecuteTime": {
     "end_time": "2023-06-15T08:40:04.365357200Z",
     "start_time": "2023-06-15T08:40:04.200378800Z"
    }
   },
   "outputs": [
    {
     "data": {
      "text/plain": "Index(['Job Title', 'Salary Estimate', 'Job Description', 'Rating',\n       'Company Name', 'Location', 'Headquarters', 'Size', 'Founded',\n       'Type of ownership', 'Industry', 'Sector', 'Revenue', 'Competitors'],\n      dtype='object')"
     },
     "execution_count": 3,
     "metadata": {},
     "output_type": "execute_result"
    }
   ],
   "source": [
    "df = pd.read_csv(\"glassdoor_jobs.csv\")\n",
    "df = df.iloc[:, 1:]\n",
    "df.columns"
   ]
  },
  {
   "cell_type": "markdown",
   "source": [
    "## data cleaning and parsing"
   ],
   "metadata": {
    "collapsed": false
   }
  },
  {
   "cell_type": "code",
   "execution_count": 4,
   "outputs": [],
   "source": [
    "# salary parsing\n",
    "df = df[df['Salary Estimate'] != \"-1\"]\n",
    "salary = df[\"Salary Estimate\"].apply(lambda x: x.split('(')[0])\n",
    "salary = salary.apply(lambda x: x.replace('K', '').replace('$', ''))\n",
    "df['Hourly Salary'] = df['Salary Estimate'].apply(lambda x: 1 if 'per hour' in x.lower() else 0)\n",
    "salary= salary.apply(lambda x: x.lower().replace('per hour', '').replace('employer provided salary:', ''))\n",
    "df['min_salary'] = salary.apply(lambda x: int(x.split('-')[0]))\n",
    "df['max_salary'] = salary.apply(lambda x: int(x.split('-')[1]))\n",
    "df['average_salary'] = (df.min_salary + df.max_salary) / 2"
   ],
   "metadata": {
    "collapsed": false,
    "ExecuteTime": {
     "end_time": "2023-06-15T08:40:04.439357300Z",
     "start_time": "2023-06-15T08:40:04.375367900Z"
    }
   }
  },
  {
   "cell_type": "code",
   "execution_count": 5,
   "outputs": [],
   "source": [
    "# company name (text only)\n",
    "company_names = df['Company Name'].apply(lambda x: re.sub(r'\\d+\\.\\d+$', '', x))\n",
    "df['company_name'] = company_names.apply(lambda x: x.strip())"
   ],
   "metadata": {
    "collapsed": false,
    "ExecuteTime": {
     "end_time": "2023-06-15T08:40:04.457356Z",
     "start_time": "2023-06-15T08:40:04.417358900Z"
    }
   }
  },
  {
   "cell_type": "code",
   "execution_count": 6,
   "outputs": [],
   "source": [
    "# state field\n",
    "df['job_state'] = df['Location'].str.split(',').str[1].str.strip()\n",
    "df['same_state'] = 0\n",
    "df.loc[df['Location'] == df['Headquarters'], 'same_state'] = 1\n",
    "# df.job_state.value_counts()"
   ],
   "metadata": {
    "collapsed": false,
    "ExecuteTime": {
     "end_time": "2023-06-15T08:40:04.490363Z",
     "start_time": "2023-06-15T08:40:04.456357800Z"
    }
   }
  },
  {
   "cell_type": "code",
   "execution_count": 7,
   "outputs": [],
   "source": [
    "# age of company\n",
    "df['company_age'] = 2023 - df['Founded']\n",
    "df.loc[df['Founded'] == -1, 'company_age'] = np.nan"
   ],
   "metadata": {
    "collapsed": false,
    "ExecuteTime": {
     "end_time": "2023-06-15T08:40:04.508354Z",
     "start_time": "2023-06-15T08:40:04.481364400Z"
    }
   }
  },
  {
   "cell_type": "code",
   "execution_count": 8,
   "outputs": [],
   "source": [
    "# parsing job description\n",
    "df['r_yn'] = df['Job Description'].apply(lambda x: 1 if re.search(\"[\\b\\s\\.,]r[\\b\\s\\.,]|rstudio|r.studio\", x.lower()) else 0)\n",
    "df['powerBI_yn'] = df['Job Description'].apply(lambda x: 1 if re.search(\"powerbi|power.bi\", x.lower()) else 0)\n",
    "skill_list = ['python', 'aws', 'spark', 'tableau', 'matlab', 'excel', 'sql']\n",
    "for skill in skill_list:\n",
    "    df[f'{skill}_yn'] = df['Job Description'].apply(lambda x: 1 if skill in x.lower() else 0)\n"
   ],
   "metadata": {
    "collapsed": false,
    "ExecuteTime": {
     "end_time": "2023-06-15T08:40:04.914949300Z",
     "start_time": "2023-06-15T08:40:04.495353200Z"
    }
   }
  },
  {
   "cell_type": "code",
   "execution_count": 10,
   "outputs": [
    {
     "data": {
      "text/plain": "56"
     },
     "execution_count": 10,
     "metadata": {},
     "output_type": "execute_result"
    }
   ],
   "source": [
    "df.powerBI_yn.sum()"
   ],
   "metadata": {
    "collapsed": false,
    "ExecuteTime": {
     "end_time": "2023-06-15T08:40:08.797051400Z",
     "start_time": "2023-06-15T08:40:08.770056700Z"
    }
   }
  },
  {
   "cell_type": "markdown",
   "source": [
    "## Exploratory data analysis"
   ],
   "metadata": {
    "collapsed": false
   }
  },
  {
   "cell_type": "code",
   "execution_count": null,
   "outputs": [],
   "source": [],
   "metadata": {
    "collapsed": false
   }
  }
 ],
 "metadata": {
  "kernelspec": {
   "display_name": "data_anal",
   "language": "python",
   "name": "python3"
  },
  "language_info": {
   "codemirror_mode": {
    "name": "ipython",
    "version": 3
   },
   "file_extension": ".py",
   "mimetype": "text/x-python",
   "name": "python",
   "nbconvert_exporter": "python",
   "pygments_lexer": "ipython3",
   "version": "3.10.9"
  },
  "orig_nbformat": 4
 },
 "nbformat": 4,
 "nbformat_minor": 2
}
